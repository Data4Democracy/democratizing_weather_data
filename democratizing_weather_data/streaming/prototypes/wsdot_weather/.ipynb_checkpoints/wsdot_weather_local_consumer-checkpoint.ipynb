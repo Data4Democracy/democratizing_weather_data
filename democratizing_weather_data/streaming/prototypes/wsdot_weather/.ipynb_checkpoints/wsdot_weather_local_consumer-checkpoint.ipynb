{
 "cells": [
  {
   "cell_type": "code",
   "execution_count": 1,
   "metadata": {
    "collapsed": true
   },
   "outputs": [],
   "source": [
    "import sys\n",
    "import logging\n",
    "import multiprocessing\n",
    "import json\n",
    "import time\n",
    "\n",
    "from kafka import KafkaConsumer\n"
   ]
  },
  {
   "cell_type": "code",
   "execution_count": 3,
   "metadata": {},
   "outputs": [
    {
     "ename": "SyntaxError",
     "evalue": "keyword can't be an expression (<ipython-input-3-c2315699e682>, line 8)",
     "output_type": "error",
     "traceback": [
      "\u001b[1;36m  File \u001b[1;32m\"<ipython-input-3-c2315699e682>\"\u001b[1;36m, line \u001b[1;32m8\u001b[0m\n\u001b[1;33m    consumer = KafkaConsumer(bootstrap_servers = 'xuwenfan@13.64.185.107', ssl.key.password = 'UWbigdata230student',\u001b[0m\n\u001b[1;37m                                                                          ^\u001b[0m\n\u001b[1;31mSyntaxError\u001b[0m\u001b[1;31m:\u001b[0m keyword can't be an expression\n"
     ]
    }
   ],
   "source": [
    "class Consumer (multiprocessing.Process):\n",
    "    def __init__(self, topic_name):\n",
    "        self.topic_name = topic_name\n",
    "\n",
    "    daemon = True\n",
    "\n",
    "    def run(self):\n",
    "        consumer = KafkaConsumer(bootstrap_servers = 'xuwenfan@13.64.185.107', ssl.key.password = 'UWbigdata230student',\n",
    "                                 auto_offset_reset = 'earliest')\n",
    "        consumer.subscribe(self.topic_name)\n",
    "\n",
    "        for message in consumer:\n",
    "            print (message.value.decode('utf-8'))\n",
    "            with open('test_store_consumer_wsdot.json', 'w') as outfile:\n",
    "                outfile.write(message.value.decode('utf-8'))\n",
    "                \n",
    "                \n",
    "def main():\n",
    "    topic_name = sys.argv[1:]\n",
    "    consumer = Consumer(topic_name)\n",
    "    consumer.run()\n",
    "    time.sleep(10)\n",
    "    \n",
    "    \n",
    "if __name__ == \"__main__\":\n",
    "    logging.basicConfig(\\\n",
    "        format = '%(asctime)s.%(msecs)s:%(name)s:%(thread)d:%(levelname)s:%(process)d:%(message)s',\\\n",
    "        level = logging.INFO\\\n",
    "    )\n",
    "    main()"
   ]
  },
  {
   "cell_type": "code",
   "execution_count": null,
   "metadata": {
    "collapsed": true
   },
   "outputs": [],
   "source": []
  }
 ],
 "metadata": {
  "kernelspec": {
   "display_name": "Python 3",
   "language": "python",
   "name": "python3"
  },
  "language_info": {
   "codemirror_mode": {
    "name": "ipython",
    "version": 3
   },
   "file_extension": ".py",
   "mimetype": "text/x-python",
   "name": "python",
   "nbconvert_exporter": "python",
   "pygments_lexer": "ipython3",
   "version": "3.6.1"
  }
 },
 "nbformat": 4,
 "nbformat_minor": 2
}
