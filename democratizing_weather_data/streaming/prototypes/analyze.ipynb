{
 "cells": [
  {
   "cell_type": "markdown",
   "metadata": {},
   "source": [
    "_We're going to be using pandas an json, so lets start with that._"
   ]
  },
  {
   "cell_type": "code",
   "execution_count": 1,
   "metadata": {
    "collapsed": true
   },
   "outputs": [],
   "source": [
    "import json\n",
    "import pandas as pd\n",
    "import os\n",
    "from pandas.io.json import json_normalize"
   ]
  },
  {
   "cell_type": "markdown",
   "metadata": {},
   "source": [
    "# Looking at the json files"
   ]
  },
  {
   "cell_type": "markdown",
   "metadata": {},
   "source": [
    "_Before we do any real work, can we list the files from our target directory?_"
   ]
  },
  {
   "cell_type": "code",
   "execution_count": 2,
   "metadata": {},
   "outputs": [
    {
     "name": "stdout",
     "output_type": "stream",
     "text": [
      "/home/vagrant/git/BigData/democratizing_weather_data/democratizing_weather_data/streaming/prototypes\n",
      "2yahoo.json\t     wsdot.TrafficFlows.json  yahoo_weather1line.json\n",
      "API_index.csv\t     wsdot.Traveltimes.json   yahoo_weather2.json\n",
      "openweathermap.json  yahoo_weather\t      yahoo_weather.json\n"
     ]
    }
   ],
   "source": [
    "!pwd\n",
    "! ls ../APIs"
   ]
  },
  {
   "cell_type": "markdown",
   "metadata": {},
   "source": [
    "_Nice! Let's examine a json file_"
   ]
  },
  {
   "cell_type": "code",
   "execution_count": 3,
   "metadata": {},
   "outputs": [
    {
     "name": "stdout",
     "output_type": "stream",
     "text": [
      "{\r\n",
      "    \"query\": {\r\n",
      "        \"count\": 1,\r\n",
      "        \"created\": \"2017-07-29T23:51:25Z\",\r\n",
      "        \"lang\": \"en-US\",\r\n",
      "        \"diagnostics\": {\r\n",
      "            \"publiclyCallable\": \"true\",\r\n",
      "            \"url\": {\r\n",
      "                \"execution-start-time\": \"1\",\r\n",
      "                \"execution-stop-time\": \"5\",\r\n"
     ]
    }
   ],
   "source": [
    "!head ../APIs/yahoo_weather.json"
   ]
  },
  {
   "cell_type": "markdown",
   "metadata": {},
   "source": [
    "# Exploring JSON from the Yahoo Weather API"
   ]
  },
  {
   "cell_type": "markdown",
   "metadata": {
    "collapsed": true
   },
   "source": [
    "_Read a json file from disk (we'll use ../API/<tbd>.json\n",
    "We should reall use the yahoo api output, since we know how to convert that to a csv_\n",
    "\n",
    "Source [Andy Hayden on ghthub.io](http://hayd.github.io/2013/pandas-json)"
   ]
  },
  {
   "cell_type": "code",
   "execution_count": 4,
   "metadata": {},
   "outputs": [
    {
     "data": {
      "text/html": [
       "<div>\n",
       "<style>\n",
       "    .dataframe thead tr:only-child th {\n",
       "        text-align: right;\n",
       "    }\n",
       "\n",
       "    .dataframe thead th {\n",
       "        text-align: left;\n",
       "    }\n",
       "\n",
       "    .dataframe tbody tr th {\n",
       "        vertical-align: top;\n",
       "    }\n",
       "</style>\n",
       "<table border=\"1\" class=\"dataframe\">\n",
       "  <thead>\n",
       "    <tr style=\"text-align: right;\">\n",
       "      <th></th>\n",
       "      <th>query</th>\n",
       "    </tr>\n",
       "  </thead>\n",
       "  <tbody>\n",
       "    <tr>\n",
       "      <th>count</th>\n",
       "      <td>1</td>\n",
       "    </tr>\n",
       "    <tr>\n",
       "      <th>created</th>\n",
       "      <td>2017-07-29T23:51:25Z</td>\n",
       "    </tr>\n",
       "    <tr>\n",
       "      <th>diagnostics</th>\n",
       "      <td>{'publiclyCallable': 'true', 'url': {'executio...</td>\n",
       "    </tr>\n",
       "    <tr>\n",
       "      <th>lang</th>\n",
       "      <td>en-US</td>\n",
       "    </tr>\n",
       "    <tr>\n",
       "      <th>results</th>\n",
       "      <td>{'channel': {'units': {'distance': 'mi', 'pres...</td>\n",
       "    </tr>\n",
       "  </tbody>\n",
       "</table>\n",
       "</div>"
      ],
      "text/plain": [
       "                                                         query\n",
       "count                                                        1\n",
       "created                                   2017-07-29T23:51:25Z\n",
       "diagnostics  {'publiclyCallable': 'true', 'url': {'executio...\n",
       "lang                                                     en-US\n",
       "results      {'channel': {'units': {'distance': 'mi', 'pres..."
      ]
     },
     "execution_count": 4,
     "metadata": {},
     "output_type": "execute_result"
    }
   ],
   "source": [
    "df = pd.read_json('../APIs/yahoo_weather.json')\n",
    "df"
   ]
  },
  {
   "cell_type": "markdown",
   "metadata": {},
   "source": [
    "_Not much of a dataframe. Let's re-read and nomralize, drilling into the results section._\n",
    "\n",
    "Read file with json Library. Source: [Scott Robinson's Stack Abuse Article ](http://stackabuse.com/reading-and-writing-json-to-a-file-in-python/)"
   ]
  },
  {
   "cell_type": "code",
   "execution_count": 35,
   "metadata": {},
   "outputs": [
    {
     "data": {
      "text/html": [
       "<div>\n",
       "<style>\n",
       "    .dataframe thead tr:only-child th {\n",
       "        text-align: right;\n",
       "    }\n",
       "\n",
       "    .dataframe thead th {\n",
       "        text-align: left;\n",
       "    }\n",
       "\n",
       "    .dataframe tbody tr th {\n",
       "        vertical-align: top;\n",
       "    }\n",
       "</style>\n",
       "<table border=\"1\" class=\"dataframe\">\n",
       "  <thead>\n",
       "    <tr style=\"text-align: right;\">\n",
       "      <th></th>\n",
       "      <th>count</th>\n",
       "      <th>created</th>\n",
       "      <th>diagnostics.build-version</th>\n",
       "      <th>diagnostics.publiclyCallable</th>\n",
       "      <th>diagnostics.service-time</th>\n",
       "      <th>diagnostics.url.content</th>\n",
       "      <th>diagnostics.url.execution-start-time</th>\n",
       "      <th>diagnostics.url.execution-stop-time</th>\n",
       "      <th>diagnostics.url.execution-time</th>\n",
       "      <th>diagnostics.user-time</th>\n",
       "      <th>...</th>\n",
       "      <th>results.channel.location.region</th>\n",
       "      <th>results.channel.title</th>\n",
       "      <th>results.channel.ttl</th>\n",
       "      <th>results.channel.units.distance</th>\n",
       "      <th>results.channel.units.pressure</th>\n",
       "      <th>results.channel.units.speed</th>\n",
       "      <th>results.channel.units.temperature</th>\n",
       "      <th>results.channel.wind.chill</th>\n",
       "      <th>results.channel.wind.direction</th>\n",
       "      <th>results.channel.wind.speed</th>\n",
       "    </tr>\n",
       "  </thead>\n",
       "  <tbody>\n",
       "    <tr>\n",
       "      <th>0</th>\n",
       "      <td>1</td>\n",
       "      <td>2017-07-29T23:51:25Z</td>\n",
       "      <td>2.0.164</td>\n",
       "      <td>true</td>\n",
       "      <td>4</td>\n",
       "      <td>http://weather-ydn-yql.media.yahoo.com:4080/v3...</td>\n",
       "      <td>1</td>\n",
       "      <td>5</td>\n",
       "      <td>4</td>\n",
       "      <td>6</td>\n",
       "      <td>...</td>\n",
       "      <td>CA</td>\n",
       "      <td>Yahoo! Weather - Sunnyvale, CA, US</td>\n",
       "      <td>60</td>\n",
       "      <td>mi</td>\n",
       "      <td>in</td>\n",
       "      <td>mph</td>\n",
       "      <td>F</td>\n",
       "      <td>75</td>\n",
       "      <td>355</td>\n",
       "      <td>18</td>\n",
       "    </tr>\n",
       "  </tbody>\n",
       "</table>\n",
       "<p>1 rows × 50 columns</p>\n",
       "</div>"
      ],
      "text/plain": [
       "   count               created diagnostics.build-version  \\\n",
       "0      1  2017-07-29T23:51:25Z                   2.0.164   \n",
       "\n",
       "  diagnostics.publiclyCallable diagnostics.service-time  \\\n",
       "0                         true                        4   \n",
       "\n",
       "                             diagnostics.url.content  \\\n",
       "0  http://weather-ydn-yql.media.yahoo.com:4080/v3...   \n",
       "\n",
       "  diagnostics.url.execution-start-time diagnostics.url.execution-stop-time  \\\n",
       "0                                    1                                   5   \n",
       "\n",
       "  diagnostics.url.execution-time diagnostics.user-time  \\\n",
       "0                              4                     6   \n",
       "\n",
       "             ...             results.channel.location.region  \\\n",
       "0            ...                                          CA   \n",
       "\n",
       "                results.channel.title results.channel.ttl  \\\n",
       "0  Yahoo! Weather - Sunnyvale, CA, US                  60   \n",
       "\n",
       "  results.channel.units.distance results.channel.units.pressure  \\\n",
       "0                             mi                             in   \n",
       "\n",
       "  results.channel.units.speed results.channel.units.temperature  \\\n",
       "0                         mph                                 F   \n",
       "\n",
       "  results.channel.wind.chill results.channel.wind.direction  \\\n",
       "0                         75                            355   \n",
       "\n",
       "  results.channel.wind.speed  \n",
       "0                         18  \n",
       "\n",
       "[1 rows x 50 columns]"
      ]
     },
     "execution_count": 35,
     "metadata": {},
     "output_type": "execute_result"
    }
   ],
   "source": [
    "with open('../APIs/yahoo_weather.json') as json_file:\n",
    "  raw_json = json.load(json_file)\n",
    "\n",
    "yahoo_weather_df = json_normalize(raw_json['query']) \n",
    "yahoo_weather_df"
   ]
  },
  {
   "cell_type": "markdown",
   "metadata": {},
   "source": [
    "_One row, 50 columns. Let's look at data types._"
   ]
  },
  {
   "cell_type": "code",
   "execution_count": 37,
   "metadata": {},
   "outputs": [
    {
     "data": {
      "text/plain": [
       "count                                     int64\n",
       "created                                  object\n",
       "diagnostics.build-version                object\n",
       "diagnostics.publiclyCallable             object\n",
       "diagnostics.service-time                 object\n",
       "diagnostics.url.content                  object\n",
       "diagnostics.url.execution-start-time     object\n",
       "diagnostics.url.execution-stop-time      object\n",
       "diagnostics.url.execution-time           object\n",
       "diagnostics.user-time                    object\n",
       "lang                                     object\n",
       "results.channel.astronomy.sunrise        object\n",
       "results.channel.astronomy.sunset         object\n",
       "results.channel.atmosphere.humidity      object\n",
       "results.channel.atmosphere.pressure      object\n",
       "results.channel.atmosphere.rising        object\n",
       "results.channel.atmosphere.visibility    object\n",
       "results.channel.description              object\n",
       "results.channel.image.height             object\n",
       "results.channel.image.link               object\n",
       "results.channel.image.title              object\n",
       "results.channel.image.url                object\n",
       "results.channel.image.width              object\n",
       "results.channel.item.condition.code      object\n",
       "results.channel.item.condition.date      object\n",
       "results.channel.item.condition.temp      object\n",
       "results.channel.item.condition.text      object\n",
       "results.channel.item.description         object\n",
       "results.channel.item.forecast            object\n",
       "results.channel.item.guid.isPermaLink    object\n",
       "results.channel.item.lat                 object\n",
       "results.channel.item.link                object\n",
       "results.channel.item.long                object\n",
       "results.channel.item.pubDate             object\n",
       "results.channel.item.title               object\n",
       "results.channel.language                 object\n",
       "results.channel.lastBuildDate            object\n",
       "results.channel.link                     object\n",
       "results.channel.location.city            object\n",
       "results.channel.location.country         object\n",
       "results.channel.location.region          object\n",
       "results.channel.title                    object\n",
       "results.channel.ttl                      object\n",
       "results.channel.units.distance           object\n",
       "results.channel.units.pressure           object\n",
       "results.channel.units.speed              object\n",
       "results.channel.units.temperature        object\n",
       "results.channel.wind.chill               object\n",
       "results.channel.wind.direction           object\n",
       "results.channel.wind.speed               object\n",
       "dtype: object"
      ]
     },
     "execution_count": 37,
     "metadata": {},
     "output_type": "execute_result"
    }
   ],
   "source": [
    "yahoo_weather_df.dtypes"
   ]
  },
  {
   "cell_type": "markdown",
   "metadata": {},
   "source": [
    "_That's a lot of data, all of type object. For the Yahoo Weather API, most of the good stuff lives in_ results.channel\n",
    "_Let's dig deeper_"
   ]
  },
  {
   "cell_type": "code",
   "execution_count": 38,
   "metadata": {},
   "outputs": [
    {
     "data": {
      "text/html": [
       "<div>\n",
       "<style>\n",
       "    .dataframe thead tr:only-child th {\n",
       "        text-align: right;\n",
       "    }\n",
       "\n",
       "    .dataframe thead th {\n",
       "        text-align: left;\n",
       "    }\n",
       "\n",
       "    .dataframe tbody tr th {\n",
       "        vertical-align: top;\n",
       "    }\n",
       "</style>\n",
       "<table border=\"1\" class=\"dataframe\">\n",
       "  <thead>\n",
       "    <tr style=\"text-align: right;\">\n",
       "      <th></th>\n",
       "      <th>astronomy.sunrise</th>\n",
       "      <th>astronomy.sunset</th>\n",
       "      <th>atmosphere.humidity</th>\n",
       "      <th>atmosphere.pressure</th>\n",
       "      <th>atmosphere.rising</th>\n",
       "      <th>atmosphere.visibility</th>\n",
       "      <th>description</th>\n",
       "      <th>image.height</th>\n",
       "      <th>image.link</th>\n",
       "      <th>image.title</th>\n",
       "      <th>...</th>\n",
       "      <th>location.region</th>\n",
       "      <th>title</th>\n",
       "      <th>ttl</th>\n",
       "      <th>units.distance</th>\n",
       "      <th>units.pressure</th>\n",
       "      <th>units.speed</th>\n",
       "      <th>units.temperature</th>\n",
       "      <th>wind.chill</th>\n",
       "      <th>wind.direction</th>\n",
       "      <th>wind.speed</th>\n",
       "    </tr>\n",
       "  </thead>\n",
       "  <tbody>\n",
       "    <tr>\n",
       "      <th>0</th>\n",
       "      <td>6:10 am</td>\n",
       "      <td>8:19 pm</td>\n",
       "      <td>58</td>\n",
       "      <td>1006.0</td>\n",
       "      <td>0</td>\n",
       "      <td>16.1</td>\n",
       "      <td>Yahoo! Weather for Sunnyvale, CA, US</td>\n",
       "      <td>18</td>\n",
       "      <td>http://weather.yahoo.com</td>\n",
       "      <td>Yahoo! Weather</td>\n",
       "      <td>...</td>\n",
       "      <td>CA</td>\n",
       "      <td>Yahoo! Weather - Sunnyvale, CA, US</td>\n",
       "      <td>60</td>\n",
       "      <td>mi</td>\n",
       "      <td>in</td>\n",
       "      <td>mph</td>\n",
       "      <td>F</td>\n",
       "      <td>75</td>\n",
       "      <td>355</td>\n",
       "      <td>18</td>\n",
       "    </tr>\n",
       "  </tbody>\n",
       "</table>\n",
       "<p>1 rows × 39 columns</p>\n",
       "</div>"
      ],
      "text/plain": [
       "  astronomy.sunrise astronomy.sunset atmosphere.humidity atmosphere.pressure  \\\n",
       "0           6:10 am          8:19 pm                  58              1006.0   \n",
       "\n",
       "  atmosphere.rising atmosphere.visibility  \\\n",
       "0                 0                  16.1   \n",
       "\n",
       "                            description image.height  \\\n",
       "0  Yahoo! Weather for Sunnyvale, CA, US           18   \n",
       "\n",
       "                 image.link     image.title    ...     location.region  \\\n",
       "0  http://weather.yahoo.com  Yahoo! Weather    ...                  CA   \n",
       "\n",
       "                                title ttl units.distance units.pressure  \\\n",
       "0  Yahoo! Weather - Sunnyvale, CA, US  60             mi             in   \n",
       "\n",
       "  units.speed units.temperature wind.chill wind.direction wind.speed  \n",
       "0         mph                 F         75            355         18  \n",
       "\n",
       "[1 rows x 39 columns]"
      ]
     },
     "execution_count": 38,
     "metadata": {},
     "output_type": "execute_result"
    }
   ],
   "source": [
    "with open('../APIs/yahoo_weather.json') as json_file:\n",
    "  raw_json = json.load(json_file)\n",
    "\n",
    "yahoo_weather_df = json_normalize(raw_json['query']['results']['channel']) \n",
    "yahoo_weather_df"
   ]
  },
  {
   "cell_type": "markdown",
   "metadata": {},
   "source": [
    "_Looking more like a dataframe.  Let's look at fields & datatypes_"
   ]
  },
  {
   "cell_type": "code",
   "execution_count": 39,
   "metadata": {},
   "outputs": [
    {
     "data": {
      "text/plain": [
       "astronomy.sunrise        object\n",
       "astronomy.sunset         object\n",
       "atmosphere.humidity      object\n",
       "atmosphere.pressure      object\n",
       "atmosphere.rising        object\n",
       "atmosphere.visibility    object\n",
       "description              object\n",
       "image.height             object\n",
       "image.link               object\n",
       "image.title              object\n",
       "image.url                object\n",
       "image.width              object\n",
       "item.condition.code      object\n",
       "item.condition.date      object\n",
       "item.condition.temp      object\n",
       "item.condition.text      object\n",
       "item.description         object\n",
       "item.forecast            object\n",
       "item.guid.isPermaLink    object\n",
       "item.lat                 object\n",
       "item.link                object\n",
       "item.long                object\n",
       "item.pubDate             object\n",
       "item.title               object\n",
       "language                 object\n",
       "lastBuildDate            object\n",
       "link                     object\n",
       "location.city            object\n",
       "location.country         object\n",
       "location.region          object\n",
       "title                    object\n",
       "ttl                      object\n",
       "units.distance           object\n",
       "units.pressure           object\n",
       "units.speed              object\n",
       "units.temperature        object\n",
       "wind.chill               object\n",
       "wind.direction           object\n",
       "wind.speed               object\n",
       "dtype: object"
      ]
     },
     "execution_count": 39,
     "metadata": {},
     "output_type": "execute_result"
    }
   ],
   "source": [
    "yahoo_weather_df.dtypes"
   ]
  },
  {
   "cell_type": "markdown",
   "metadata": {},
   "source": [
    "_Everything's an object.  If we want to do any real analysis, we're going to need to do some type conversion. Also note, that the field names have a hierarchy to them.  So maybe we can drill deeper into just the fields we want_"
   ]
  },
  {
   "cell_type": "markdown",
   "metadata": {},
   "source": [
    "_Drill Down: atmosphere_"
   ]
  },
  {
   "cell_type": "code",
   "execution_count": 31,
   "metadata": {},
   "outputs": [
    {
     "data": {
      "text/html": [
       "<div>\n",
       "<style>\n",
       "    .dataframe thead tr:only-child th {\n",
       "        text-align: right;\n",
       "    }\n",
       "\n",
       "    .dataframe thead th {\n",
       "        text-align: left;\n",
       "    }\n",
       "\n",
       "    .dataframe tbody tr th {\n",
       "        vertical-align: top;\n",
       "    }\n",
       "</style>\n",
       "<table border=\"1\" class=\"dataframe\">\n",
       "  <thead>\n",
       "    <tr style=\"text-align: right;\">\n",
       "      <th></th>\n",
       "      <th>humidity</th>\n",
       "      <th>pressure</th>\n",
       "      <th>rising</th>\n",
       "      <th>visibility</th>\n",
       "    </tr>\n",
       "  </thead>\n",
       "  <tbody>\n",
       "    <tr>\n",
       "      <th>0</th>\n",
       "      <td>58</td>\n",
       "      <td>1006.0</td>\n",
       "      <td>0</td>\n",
       "      <td>16.1</td>\n",
       "    </tr>\n",
       "  </tbody>\n",
       "</table>\n",
       "</div>"
      ],
      "text/plain": [
       "  humidity pressure rising visibility\n",
       "0       58   1006.0      0       16.1"
      ]
     },
     "execution_count": 31,
     "metadata": {},
     "output_type": "execute_result"
    }
   ],
   "source": [
    "with open('../APIs/yahoo_weather.json') as json_file:\n",
    "  raw_json = json.load(json_file)\n",
    "\n",
    "yahoo_weather_atmosphere_df = json_normalize(raw_json['query']['results']['channel']['atmosphere']) \n",
    "yahoo_weather_atmosphere_df"
   ]
  },
  {
   "cell_type": "markdown",
   "metadata": {
    "collapsed": true
   },
   "source": [
    "_Drill Down: image_"
   ]
  },
  {
   "cell_type": "code",
   "execution_count": 41,
   "metadata": {},
   "outputs": [
    {
     "data": {
      "text/html": [
       "<div>\n",
       "<style>\n",
       "    .dataframe thead tr:only-child th {\n",
       "        text-align: right;\n",
       "    }\n",
       "\n",
       "    .dataframe thead th {\n",
       "        text-align: left;\n",
       "    }\n",
       "\n",
       "    .dataframe tbody tr th {\n",
       "        vertical-align: top;\n",
       "    }\n",
       "</style>\n",
       "<table border=\"1\" class=\"dataframe\">\n",
       "  <thead>\n",
       "    <tr style=\"text-align: right;\">\n",
       "      <th></th>\n",
       "      <th>height</th>\n",
       "      <th>link</th>\n",
       "      <th>title</th>\n",
       "      <th>url</th>\n",
       "      <th>width</th>\n",
       "    </tr>\n",
       "  </thead>\n",
       "  <tbody>\n",
       "    <tr>\n",
       "      <th>0</th>\n",
       "      <td>18</td>\n",
       "      <td>http://weather.yahoo.com</td>\n",
       "      <td>Yahoo! Weather</td>\n",
       "      <td>http://l.yimg.com/a/i/brand/purplelogo//uh/us/...</td>\n",
       "      <td>142</td>\n",
       "    </tr>\n",
       "  </tbody>\n",
       "</table>\n",
       "</div>"
      ],
      "text/plain": [
       "  height                      link           title  \\\n",
       "0     18  http://weather.yahoo.com  Yahoo! Weather   \n",
       "\n",
       "                                                 url width  \n",
       "0  http://l.yimg.com/a/i/brand/purplelogo//uh/us/...   142  "
      ]
     },
     "execution_count": 41,
     "metadata": {},
     "output_type": "execute_result"
    }
   ],
   "source": [
    "with open('../APIs/yahoo_weather.json') as json_file:\n",
    "  raw_json = json.load(json_file)\n",
    "\n",
    "yahoo_weather_image_df = json_normalize(raw_json['query']['results']['channel']['image']) \n",
    "yahoo_weather_image_df"
   ]
  },
  {
   "cell_type": "markdown",
   "metadata": {
    "collapsed": true
   },
   "source": [
    "_Drill Down: item_"
   ]
  },
  {
   "cell_type": "code",
   "execution_count": 45,
   "metadata": {},
   "outputs": [
    {
     "data": {
      "text/html": [
       "<div>\n",
       "<style>\n",
       "    .dataframe thead tr:only-child th {\n",
       "        text-align: right;\n",
       "    }\n",
       "\n",
       "    .dataframe thead th {\n",
       "        text-align: left;\n",
       "    }\n",
       "\n",
       "    .dataframe tbody tr th {\n",
       "        vertical-align: top;\n",
       "    }\n",
       "</style>\n",
       "<table border=\"1\" class=\"dataframe\">\n",
       "  <thead>\n",
       "    <tr style=\"text-align: right;\">\n",
       "      <th></th>\n",
       "      <th>condition.code</th>\n",
       "      <th>condition.date</th>\n",
       "      <th>condition.temp</th>\n",
       "      <th>condition.text</th>\n",
       "      <th>description</th>\n",
       "      <th>forecast</th>\n",
       "      <th>guid.isPermaLink</th>\n",
       "      <th>lat</th>\n",
       "      <th>link</th>\n",
       "      <th>long</th>\n",
       "      <th>pubDate</th>\n",
       "      <th>title</th>\n",
       "    </tr>\n",
       "  </thead>\n",
       "  <tbody>\n",
       "    <tr>\n",
       "      <th>0</th>\n",
       "      <td>32</td>\n",
       "      <td>Sat, 29 Jul 2017 04:00 PM PDT</td>\n",
       "      <td>75</td>\n",
       "      <td>Sunny</td>\n",
       "      <td>&lt;![CDATA[&lt;img src=\"http://l.yimg.com/a/i/us/we...</td>\n",
       "      <td>[{'code': '34', 'date': '29 Jul 2017', 'day': ...</td>\n",
       "      <td>false</td>\n",
       "      <td>37.371609</td>\n",
       "      <td>http://us.rd.yahoo.com/dailynews/rss/weather/C...</td>\n",
       "      <td>-122.038254</td>\n",
       "      <td>Sat, 29 Jul 2017 04:00 PM PDT</td>\n",
       "      <td>Conditions for Sunnyvale, CA, US at 04:00 PM PDT</td>\n",
       "    </tr>\n",
       "  </tbody>\n",
       "</table>\n",
       "</div>"
      ],
      "text/plain": [
       "  condition.code                 condition.date condition.temp condition.text  \\\n",
       "0             32  Sat, 29 Jul 2017 04:00 PM PDT             75          Sunny   \n",
       "\n",
       "                                         description  \\\n",
       "0  <![CDATA[<img src=\"http://l.yimg.com/a/i/us/we...   \n",
       "\n",
       "                                            forecast guid.isPermaLink  \\\n",
       "0  [{'code': '34', 'date': '29 Jul 2017', 'day': ...            false   \n",
       "\n",
       "         lat                                               link         long  \\\n",
       "0  37.371609  http://us.rd.yahoo.com/dailynews/rss/weather/C...  -122.038254   \n",
       "\n",
       "                         pubDate  \\\n",
       "0  Sat, 29 Jul 2017 04:00 PM PDT   \n",
       "\n",
       "                                              title  \n",
       "0  Conditions for Sunnyvale, CA, US at 04:00 PM PDT  "
      ]
     },
     "execution_count": 45,
     "metadata": {},
     "output_type": "execute_result"
    }
   ],
   "source": [
    "with open('../APIs/yahoo_weather.json') as json_file:\n",
    "  raw_json = json.load(json_file)\n",
    "\n",
    "yahoo_weather_item_df = json_normalize(raw_json['query']['results']['channel']['item']) \n",
    "yahoo_weather_item_df"
   ]
  },
  {
   "cell_type": "markdown",
   "metadata": {
    "collapsed": true
   },
   "source": [
    "_Drill Down: item.forecast_"
   ]
  },
  {
   "cell_type": "code",
   "execution_count": 46,
   "metadata": {},
   "outputs": [
    {
     "data": {
      "text/html": [
       "<div>\n",
       "<style>\n",
       "    .dataframe thead tr:only-child th {\n",
       "        text-align: right;\n",
       "    }\n",
       "\n",
       "    .dataframe thead th {\n",
       "        text-align: left;\n",
       "    }\n",
       "\n",
       "    .dataframe tbody tr th {\n",
       "        vertical-align: top;\n",
       "    }\n",
       "</style>\n",
       "<table border=\"1\" class=\"dataframe\">\n",
       "  <thead>\n",
       "    <tr style=\"text-align: right;\">\n",
       "      <th></th>\n",
       "      <th>code</th>\n",
       "      <th>date</th>\n",
       "      <th>day</th>\n",
       "      <th>high</th>\n",
       "      <th>low</th>\n",
       "      <th>text</th>\n",
       "    </tr>\n",
       "  </thead>\n",
       "  <tbody>\n",
       "    <tr>\n",
       "      <th>0</th>\n",
       "      <td>34</td>\n",
       "      <td>29 Jul 2017</td>\n",
       "      <td>Sat</td>\n",
       "      <td>78</td>\n",
       "      <td>58</td>\n",
       "      <td>Mostly Sunny</td>\n",
       "    </tr>\n",
       "    <tr>\n",
       "      <th>1</th>\n",
       "      <td>32</td>\n",
       "      <td>30 Jul 2017</td>\n",
       "      <td>Sun</td>\n",
       "      <td>84</td>\n",
       "      <td>60</td>\n",
       "      <td>Sunny</td>\n",
       "    </tr>\n",
       "    <tr>\n",
       "      <th>2</th>\n",
       "      <td>32</td>\n",
       "      <td>31 Jul 2017</td>\n",
       "      <td>Mon</td>\n",
       "      <td>87</td>\n",
       "      <td>61</td>\n",
       "      <td>Sunny</td>\n",
       "    </tr>\n",
       "    <tr>\n",
       "      <th>3</th>\n",
       "      <td>32</td>\n",
       "      <td>01 Aug 2017</td>\n",
       "      <td>Tue</td>\n",
       "      <td>88</td>\n",
       "      <td>64</td>\n",
       "      <td>Sunny</td>\n",
       "    </tr>\n",
       "    <tr>\n",
       "      <th>4</th>\n",
       "      <td>34</td>\n",
       "      <td>02 Aug 2017</td>\n",
       "      <td>Wed</td>\n",
       "      <td>90</td>\n",
       "      <td>66</td>\n",
       "      <td>Mostly Sunny</td>\n",
       "    </tr>\n",
       "    <tr>\n",
       "      <th>5</th>\n",
       "      <td>30</td>\n",
       "      <td>03 Aug 2017</td>\n",
       "      <td>Thu</td>\n",
       "      <td>88</td>\n",
       "      <td>68</td>\n",
       "      <td>Partly Cloudy</td>\n",
       "    </tr>\n",
       "    <tr>\n",
       "      <th>6</th>\n",
       "      <td>34</td>\n",
       "      <td>04 Aug 2017</td>\n",
       "      <td>Fri</td>\n",
       "      <td>88</td>\n",
       "      <td>67</td>\n",
       "      <td>Mostly Sunny</td>\n",
       "    </tr>\n",
       "    <tr>\n",
       "      <th>7</th>\n",
       "      <td>32</td>\n",
       "      <td>05 Aug 2017</td>\n",
       "      <td>Sat</td>\n",
       "      <td>86</td>\n",
       "      <td>66</td>\n",
       "      <td>Sunny</td>\n",
       "    </tr>\n",
       "    <tr>\n",
       "      <th>8</th>\n",
       "      <td>34</td>\n",
       "      <td>06 Aug 2017</td>\n",
       "      <td>Sun</td>\n",
       "      <td>83</td>\n",
       "      <td>63</td>\n",
       "      <td>Mostly Sunny</td>\n",
       "    </tr>\n",
       "    <tr>\n",
       "      <th>9</th>\n",
       "      <td>34</td>\n",
       "      <td>07 Aug 2017</td>\n",
       "      <td>Mon</td>\n",
       "      <td>79</td>\n",
       "      <td>61</td>\n",
       "      <td>Mostly Sunny</td>\n",
       "    </tr>\n",
       "  </tbody>\n",
       "</table>\n",
       "</div>"
      ],
      "text/plain": [
       "  code         date  day high low           text\n",
       "0   34  29 Jul 2017  Sat   78  58   Mostly Sunny\n",
       "1   32  30 Jul 2017  Sun   84  60          Sunny\n",
       "2   32  31 Jul 2017  Mon   87  61          Sunny\n",
       "3   32  01 Aug 2017  Tue   88  64          Sunny\n",
       "4   34  02 Aug 2017  Wed   90  66   Mostly Sunny\n",
       "5   30  03 Aug 2017  Thu   88  68  Partly Cloudy\n",
       "6   34  04 Aug 2017  Fri   88  67   Mostly Sunny\n",
       "7   32  05 Aug 2017  Sat   86  66          Sunny\n",
       "8   34  06 Aug 2017  Sun   83  63   Mostly Sunny\n",
       "9   34  07 Aug 2017  Mon   79  61   Mostly Sunny"
      ]
     },
     "execution_count": 46,
     "metadata": {},
     "output_type": "execute_result"
    }
   ],
   "source": [
    "with open('../APIs/yahoo_weather.json') as json_file:\n",
    "  raw_json = json.load(json_file)\n",
    "\n",
    "yahoo_weather_forecast_df = json_normalize(raw_json['query']['results']['channel']['item']['forecast']) \n",
    "yahoo_weather_forecast_df"
   ]
  },
  {
   "cell_type": "markdown",
   "metadata": {},
   "source": [
    "_Drill Down:condition_"
   ]
  },
  {
   "cell_type": "code",
   "execution_count": 47,
   "metadata": {},
   "outputs": [
    {
     "data": {
      "text/html": [
       "<div>\n",
       "<style>\n",
       "    .dataframe thead tr:only-child th {\n",
       "        text-align: right;\n",
       "    }\n",
       "\n",
       "    .dataframe thead th {\n",
       "        text-align: left;\n",
       "    }\n",
       "\n",
       "    .dataframe tbody tr th {\n",
       "        vertical-align: top;\n",
       "    }\n",
       "</style>\n",
       "<table border=\"1\" class=\"dataframe\">\n",
       "  <thead>\n",
       "    <tr style=\"text-align: right;\">\n",
       "      <th></th>\n",
       "      <th>code</th>\n",
       "      <th>date</th>\n",
       "      <th>temp</th>\n",
       "      <th>text</th>\n",
       "    </tr>\n",
       "  </thead>\n",
       "  <tbody>\n",
       "    <tr>\n",
       "      <th>0</th>\n",
       "      <td>32</td>\n",
       "      <td>Sat, 29 Jul 2017 04:00 PM PDT</td>\n",
       "      <td>75</td>\n",
       "      <td>Sunny</td>\n",
       "    </tr>\n",
       "  </tbody>\n",
       "</table>\n",
       "</div>"
      ],
      "text/plain": [
       "  code                           date temp   text\n",
       "0   32  Sat, 29 Jul 2017 04:00 PM PDT   75  Sunny"
      ]
     },
     "execution_count": 47,
     "metadata": {},
     "output_type": "execute_result"
    }
   ],
   "source": [
    "with open('../APIs/yahoo_weather.json') as json_file:\n",
    "  raw_json = json.load(json_file)\n",
    "\n",
    "yahoo_weather_conditions_df = json_normalize(raw_json['query']['results']['channel']['item']['condition']) \n",
    "yahoo_weather_conditions_df"
   ]
  },
  {
   "cell_type": "markdown",
   "metadata": {
    "collapsed": true
   },
   "source": [
    "_Drill Down: wind_"
   ]
  },
  {
   "cell_type": "code",
   "execution_count": 48,
   "metadata": {},
   "outputs": [
    {
     "data": {
      "text/html": [
       "<div>\n",
       "<style>\n",
       "    .dataframe thead tr:only-child th {\n",
       "        text-align: right;\n",
       "    }\n",
       "\n",
       "    .dataframe thead th {\n",
       "        text-align: left;\n",
       "    }\n",
       "\n",
       "    .dataframe tbody tr th {\n",
       "        vertical-align: top;\n",
       "    }\n",
       "</style>\n",
       "<table border=\"1\" class=\"dataframe\">\n",
       "  <thead>\n",
       "    <tr style=\"text-align: right;\">\n",
       "      <th></th>\n",
       "      <th>chill</th>\n",
       "      <th>direction</th>\n",
       "      <th>speed</th>\n",
       "    </tr>\n",
       "  </thead>\n",
       "  <tbody>\n",
       "    <tr>\n",
       "      <th>0</th>\n",
       "      <td>75</td>\n",
       "      <td>355</td>\n",
       "      <td>18</td>\n",
       "    </tr>\n",
       "  </tbody>\n",
       "</table>\n",
       "</div>"
      ],
      "text/plain": [
       "  chill direction speed\n",
       "0    75       355    18"
      ]
     },
     "execution_count": 48,
     "metadata": {},
     "output_type": "execute_result"
    }
   ],
   "source": [
    "with open('../APIs/yahoo_weather.json') as json_file:\n",
    "  raw_json = json.load(json_file)\n",
    "\n",
    "yahoo_weather_atmosphere_df = json_normalize(raw_json['query']['results']['channel']['wind']) \n",
    "yahoo_weather_atmosphere_df"
   ]
  },
  {
   "cell_type": "markdown",
   "metadata": {},
   "source": [
    "# Exploring JSON from the Open Weather Map API"
   ]
  },
  {
   "cell_type": "code",
   "execution_count": 55,
   "metadata": {},
   "outputs": [
    {
     "name": "stdout",
     "output_type": "stream",
     "text": [
      "/home/vagrant/git/BigData/democratizing_weather_data/democratizing_weather_data/streaming/prototypes\n",
      "2yahoo.json\t     wsdot.TrafficFlows.json  yahoo_weather1line.json\n",
      "API_index.csv\t     wsdot.Traveltimes.json   yahoo_weather2.json\n",
      "openweathermap.json  yahoo_weather\t      yahoo_weather.json\n",
      "{\n",
      "    \"coord\": {\n",
      "        \"lon\": 139.01,\n",
      "        \"lat\": 35.02\n",
      "    },\n",
      "    \"weather\": [\n",
      "        {\n",
      "            \"id\": 800,\n",
      "            \"main\": \"Clear\",\n",
      "            \"description\": \"clear sky\",\n",
      "            \"icon\": \"01n\"\n",
      "        }\n",
      "    ],\n",
      "    \"base\": \"stations\",\n",
      "    \"main\": {\n",
      "        \"temp\": 285.514,\n",
      "        \"pressure\": 1013.75,\n",
      "        \"humidity\": 100,\n",
      "        \"temp_min\": 285.514,\n",
      "        \"temp_max\": 285.514,\n",
      "        \"sea_level\": 1023.22,\n",
      "        \"grnd_level\": 1013.75\n",
      "    },\n",
      "    \"wind\": {\n",
      "        \"speed\": 5.52,\n",
      "        \"deg\": 311\n",
      "    },\n",
      "    \"clouds\": {\n",
      "        \"all\": 0\n",
      "    },\n",
      "    \"dt\": 1485792967,\n",
      "    \"sys\": {\n",
      "        \"message\": 0.0025,\n",
      "        \"country\": \"JP\",\n",
      "        \"sunrise\": 1485726240,\n",
      "        \"sunset\": 1485763863\n",
      "    },\n",
      "    \"id\": 1907296,\n",
      "    \"name\": \"Tawarano\",\n",
      "    \"cod\": 200\n",
      "}"
     ]
    }
   ],
   "source": [
    "!pwd\n",
    "! ls ../APIs\n",
    "! cat ../APIs/openweathermap.json"
   ]
  },
  {
   "cell_type": "code",
   "execution_count": 51,
   "metadata": {},
   "outputs": [
    {
     "data": {
      "text/html": [
       "<div>\n",
       "<style>\n",
       "    .dataframe thead tr:only-child th {\n",
       "        text-align: right;\n",
       "    }\n",
       "\n",
       "    .dataframe thead th {\n",
       "        text-align: left;\n",
       "    }\n",
       "\n",
       "    .dataframe tbody tr th {\n",
       "        vertical-align: top;\n",
       "    }\n",
       "</style>\n",
       "<table border=\"1\" class=\"dataframe\">\n",
       "  <thead>\n",
       "    <tr style=\"text-align: right;\">\n",
       "      <th></th>\n",
       "      <th>base</th>\n",
       "      <th>clouds.all</th>\n",
       "      <th>cod</th>\n",
       "      <th>coord.lat</th>\n",
       "      <th>coord.lon</th>\n",
       "      <th>dt</th>\n",
       "      <th>id</th>\n",
       "      <th>main.grnd_level</th>\n",
       "      <th>main.humidity</th>\n",
       "      <th>main.pressure</th>\n",
       "      <th>...</th>\n",
       "      <th>main.temp_max</th>\n",
       "      <th>main.temp_min</th>\n",
       "      <th>name</th>\n",
       "      <th>sys.country</th>\n",
       "      <th>sys.message</th>\n",
       "      <th>sys.sunrise</th>\n",
       "      <th>sys.sunset</th>\n",
       "      <th>weather</th>\n",
       "      <th>wind.deg</th>\n",
       "      <th>wind.speed</th>\n",
       "    </tr>\n",
       "  </thead>\n",
       "  <tbody>\n",
       "    <tr>\n",
       "      <th>0</th>\n",
       "      <td>stations</td>\n",
       "      <td>0</td>\n",
       "      <td>200</td>\n",
       "      <td>35.02</td>\n",
       "      <td>139.01</td>\n",
       "      <td>1485792967</td>\n",
       "      <td>1907296</td>\n",
       "      <td>1013.75</td>\n",
       "      <td>100</td>\n",
       "      <td>1013.75</td>\n",
       "      <td>...</td>\n",
       "      <td>285.514</td>\n",
       "      <td>285.514</td>\n",
       "      <td>Tawarano</td>\n",
       "      <td>JP</td>\n",
       "      <td>0.0025</td>\n",
       "      <td>1485726240</td>\n",
       "      <td>1485763863</td>\n",
       "      <td>[{'id': 800, 'main': 'Clear', 'description': '...</td>\n",
       "      <td>311</td>\n",
       "      <td>5.52</td>\n",
       "    </tr>\n",
       "  </tbody>\n",
       "</table>\n",
       "<p>1 rows × 22 columns</p>\n",
       "</div>"
      ],
      "text/plain": [
       "       base  clouds.all  cod  coord.lat  coord.lon          dt       id  \\\n",
       "0  stations           0  200      35.02     139.01  1485792967  1907296   \n",
       "\n",
       "   main.grnd_level  main.humidity  main.pressure    ...      main.temp_max  \\\n",
       "0          1013.75            100        1013.75    ...            285.514   \n",
       "\n",
       "   main.temp_min      name  sys.country sys.message sys.sunrise  sys.sunset  \\\n",
       "0        285.514  Tawarano           JP      0.0025  1485726240  1485763863   \n",
       "\n",
       "                                             weather  wind.deg wind.speed  \n",
       "0  [{'id': 800, 'main': 'Clear', 'description': '...       311       5.52  \n",
       "\n",
       "[1 rows x 22 columns]"
      ]
     },
     "execution_count": 51,
     "metadata": {},
     "output_type": "execute_result"
    }
   ],
   "source": [
    "with open('../APIs/openweathermap.json') as json_file:\n",
    "  raw_json = json.load(json_file)\n",
    "\n",
    "openweathermap_df = json_normalize(raw_json) \n",
    "openweathermap_df"
   ]
  },
  {
   "cell_type": "code",
   "execution_count": 53,
   "metadata": {},
   "outputs": [
    {
     "data": {
      "text/plain": [
       "base                object\n",
       "clouds.all           int64\n",
       "cod                  int64\n",
       "coord.lat          float64\n",
       "coord.lon          float64\n",
       "dt                   int64\n",
       "id                   int64\n",
       "main.grnd_level    float64\n",
       "main.humidity        int64\n",
       "main.pressure      float64\n",
       "main.sea_level     float64\n",
       "main.temp          float64\n",
       "main.temp_max      float64\n",
       "main.temp_min      float64\n",
       "name                object\n",
       "sys.country         object\n",
       "sys.message        float64\n",
       "sys.sunrise          int64\n",
       "sys.sunset           int64\n",
       "weather             object\n",
       "wind.deg             int64\n",
       "wind.speed         float64\n",
       "dtype: object"
      ]
     },
     "execution_count": 53,
     "metadata": {},
     "output_type": "execute_result"
    }
   ],
   "source": [
    "openweathermap_df.dtypes"
   ]
  },
  {
   "cell_type": "markdown",
   "metadata": {},
   "source": [
    "_May of the data types are already numeric.  Pretty cool. Let's dive into the weather object._"
   ]
  },
  {
   "cell_type": "code",
   "execution_count": 56,
   "metadata": {},
   "outputs": [
    {
     "data": {
      "text/html": [
       "<div>\n",
       "<style>\n",
       "    .dataframe thead tr:only-child th {\n",
       "        text-align: right;\n",
       "    }\n",
       "\n",
       "    .dataframe thead th {\n",
       "        text-align: left;\n",
       "    }\n",
       "\n",
       "    .dataframe tbody tr th {\n",
       "        vertical-align: top;\n",
       "    }\n",
       "</style>\n",
       "<table border=\"1\" class=\"dataframe\">\n",
       "  <thead>\n",
       "    <tr style=\"text-align: right;\">\n",
       "      <th></th>\n",
       "      <th>description</th>\n",
       "      <th>icon</th>\n",
       "      <th>id</th>\n",
       "      <th>main</th>\n",
       "    </tr>\n",
       "  </thead>\n",
       "  <tbody>\n",
       "    <tr>\n",
       "      <th>0</th>\n",
       "      <td>clear sky</td>\n",
       "      <td>01n</td>\n",
       "      <td>800</td>\n",
       "      <td>Clear</td>\n",
       "    </tr>\n",
       "  </tbody>\n",
       "</table>\n",
       "</div>"
      ],
      "text/plain": [
       "  description icon   id   main\n",
       "0   clear sky  01n  800  Clear"
      ]
     },
     "execution_count": 56,
     "metadata": {},
     "output_type": "execute_result"
    }
   ],
   "source": [
    "with open('../APIs/openweathermap.json') as json_file:\n",
    "  raw_json = json.load(json_file)\n",
    "\n",
    "openweathermap_weather_df = json_normalize(raw_json['weather']) \n",
    "openweathermap_weather_df"
   ]
  },
  {
   "cell_type": "markdown",
   "metadata": {},
   "source": [
    "# ---------------------------------------< NEW STUFF >---------------------------------"
   ]
  },
  {
   "cell_type": "markdown",
   "metadata": {},
   "source": [
    "# ---------------------------------------< OLD STUFF >---------------------------------"
   ]
  },
  {
   "cell_type": "markdown",
   "metadata": {},
   "source": [
    "# Multi-Line Considerations\n",
    "Okay, we want dataframes with multiple rows in them, but each json object will be only one row.\n",
    "We have two options ....\n",
    "1. Have a ton of small single-object files, all living in a folder.  Check file count, read newest file whenever count goes up\n",
    "2. Have one big json file, one joson object per line, that we append to.\n",
    "\n",
    "I think what we _really_ want, is a kafka consumer that was pandas-aware. So when it gets a new message, it makes a json object and appends it to an existing dataframe.\n",
    "- ehh, that kinda breaks our architecture. We don't want to \"require\" people to use data frames (do we)?.  It's more ELT-ish to save the transform to the very end.  Delivery the json's, full-stop; then load them into pandas (or into SQL or whatever .... as you choose)\n",
    "\n",
    "So .....\n",
    "- Let's stick with the assumption that there will be json-on-disk. Probably separate files. "
   ]
  },
  {
   "cell_type": "markdown",
   "metadata": {},
   "source": [
    "### Assuming we have on json file per object ...\n",
    "- Iterate over alljson files in the folder\n",
    "    - read the file\n",
    "    - make a one-record data frame, normalized the way youwant.\n",
    "    - append to a larger data frame."
   ]
  },
  {
   "cell_type": "code",
   "execution_count": null,
   "metadata": {},
   "outputs": [],
   "source": [
    "top_folder = \"../APIs/yahoo_weather\"\n",
    "first_time = True\n",
    "\n",
    "for filename in os.listdir(top_folder):\n",
    "    filepath = top_folder + \"/\" + filename\n",
    "\n",
    "\n",
    "    with open(filepath) as json_file:\n",
    "      raw_json = json.load(json_file)\n",
    "\n",
    "    if (first_time):\n",
    " \n",
    "        first_time = False\n",
    "        bigdf = json_normalize(raw_json) \n",
    "    else:\n",
    "\n",
    "        new_json = json_normalize(raw_json)\n",
    "        bigdf = bigdf.append(new_json, ignore_index=True)\n",
    "    \n",
    "bigdf"
   ]
  },
  {
   "cell_type": "code",
   "execution_count": null,
   "metadata": {},
   "outputs": [],
   "source": [
    "bigdf.dtypes"
   ]
  },
  {
   "cell_type": "markdown",
   "metadata": {},
   "source": [
    "### Multi-line examples\n",
    "Here's a way to read multile \"files-worth\" of json objects into a dataframe\n",
    "- First, remove all the new-lines, and/or carriage returns, so that you json object is all on onel ine of text.\n",
    "- Next, concatenate your \"one-line json's\" into a single file.\n",
    "- Use the Pandas read_json() function with the lines flag set to true."
   ]
  },
  {
   "cell_type": "code",
   "execution_count": null,
   "metadata": {},
   "outputs": [],
   "source": [
    "# df3 = pd.read_json('../APIs/2yahoo.json')\n",
    "df3 = pd.read_json('../APIs/2yahoo.json', lines=True)\n",
    "df3"
   ]
  },
  {
   "cell_type": "code",
   "execution_count": null,
   "metadata": {},
   "outputs": [],
   "source": [
    "df = pd.read_json('../APIs/yahoo_weather.json')\n",
    "df\n",
    "raw_json = df.to_json\n",
    "raw_json"
   ]
  },
  {
   "cell_type": "code",
   "execution_count": null,
   "metadata": {},
   "outputs": [],
   "source": [
    "\n",
    "\n",
    "\n",
    "normal_json = json_normalize(raw_json) \n",
    "normal_json"
   ]
  },
  {
   "cell_type": "code",
   "execution_count": null,
   "metadata": {
    "collapsed": true
   },
   "outputs": [],
   "source": []
  },
  {
   "cell_type": "code",
   "execution_count": null,
   "metadata": {},
   "outputs": [],
   "source": [
    "with open('../APIs/yahoo_weather.json') as json_file:\n",
    "  raw_json = json.load(json_file)\n",
    "\n",
    "raw_json\n",
    "\n",
    "normal_json = json_normalize(raw_json['query']) \n",
    "normal_json"
   ]
  },
  {
   "cell_type": "code",
   "execution_count": null,
   "metadata": {
    "collapsed": true
   },
   "outputs": [],
   "source": []
  },
  {
   "cell_type": "markdown",
   "metadata": {},
   "source": [
    "## Future Work\n",
    "- Use Postman to generate more yahoo weather json files, then cocatenate them into one dataframe\n",
    "- Try other json files\n",
    "- Get to the point where you have multiple rows to play with. "
   ]
  }
 ],
 "metadata": {
  "kernelspec": {
   "display_name": "Python 3",
   "language": "python",
   "name": "python3"
  },
  "language_info": {
   "codemirror_mode": {
    "name": "ipython",
    "version": 3
   },
   "file_extension": ".py",
   "mimetype": "text/x-python",
   "name": "python",
   "nbconvert_exporter": "python",
   "pygments_lexer": "ipython3",
   "version": "3.6.1"
  }
 },
 "nbformat": 4,
 "nbformat_minor": 2
}
