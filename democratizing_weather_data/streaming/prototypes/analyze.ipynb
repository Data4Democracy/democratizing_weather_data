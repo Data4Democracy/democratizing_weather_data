{
 "cells": [
  {
   "cell_type": "markdown",
   "metadata": {},
   "source": [
    "_We're going to be using pandas an json, so lets start with that._"
   ]
  },
  {
   "cell_type": "code",
   "execution_count": 15,
   "metadata": {},
   "outputs": [],
   "source": [
    "import json\n",
    "import pandas as pd\n",
    "from pandas.io.json import json_normalize"
   ]
  },
  {
   "cell_type": "code",
   "execution_count": 42,
   "metadata": {},
   "outputs": [
    {
     "name": "stdout",
     "output_type": "stream",
     "text": [
      "karunopenweather_weather.json\n"
     ]
    }
   ],
   "source": [
    "# simple snippet for discussing string concatention. Remove this.\n",
    "\n",
    "topic_name = \"karunopenweather\"\n",
    "base_filename = \"_weather.json\"\n",
    "\n",
    "full_filename = topic_name + base_filename\n",
    "print (full_filename)"
   ]
  },
  {
   "cell_type": "markdown",
   "metadata": {},
   "source": [
    "_Before we do any real work, can we list the files from our target directory?_"
   ]
  },
  {
   "cell_type": "code",
   "execution_count": 35,
   "metadata": {},
   "outputs": [
    {
     "name": "stdout",
     "output_type": "stream",
     "text": [
      "/home/vagrant/git/BigData/democratizing_weather_data/democratizing_weather_data/streaming/prototypes\n",
      "API_index.csv\t     wsdot.TrafficFlows.json  yahoo_weather.json\n",
      "openweathermap.json  wsdot.Traveltimes.json\n"
     ]
    }
   ],
   "source": [
    "!pwd\n",
    "! ls ../APIs"
   ]
  },
  {
   "cell_type": "markdown",
   "metadata": {},
   "source": [
    "_Nice! Let's examine a json file_"
   ]
  },
  {
   "cell_type": "code",
   "execution_count": 43,
   "metadata": {},
   "outputs": [
    {
     "name": "stdout",
     "output_type": "stream",
     "text": [
      "{\r\n",
      "    \"query\": {\r\n",
      "        \"count\": 1,\r\n",
      "        \"created\": \"2017-07-29T23:51:25Z\",\r\n",
      "        \"lang\": \"en-US\",\r\n",
      "        \"diagnostics\": {\r\n",
      "            \"publiclyCallable\": \"true\",\r\n",
      "            \"url\": {\r\n",
      "                \"execution-start-time\": \"1\",\r\n",
      "                \"execution-stop-time\": \"5\",\r\n"
     ]
    }
   ],
   "source": [
    "!head ../APIs/yahoo_weather.json"
   ]
  },
  {
   "cell_type": "markdown",
   "metadata": {
    "collapsed": true
   },
   "source": [
    "_Read a json file from disk (we'll use ../API/<tbd>.json\n",
    "We should reall use the yahoo api output, since we know how to convert that to a csv_\n",
    "\n",
    "Source [Andy Hayden on ghthub.io](http://hayd.github.io/2013/pandas-json)"
   ]
  },
  {
   "cell_type": "code",
   "execution_count": 23,
   "metadata": {},
   "outputs": [
    {
     "data": {
      "text/html": [
       "<div>\n",
       "<style>\n",
       "    .dataframe thead tr:only-child th {\n",
       "        text-align: right;\n",
       "    }\n",
       "\n",
       "    .dataframe thead th {\n",
       "        text-align: left;\n",
       "    }\n",
       "\n",
       "    .dataframe tbody tr th {\n",
       "        vertical-align: top;\n",
       "    }\n",
       "</style>\n",
       "<table border=\"1\" class=\"dataframe\">\n",
       "  <thead>\n",
       "    <tr style=\"text-align: right;\">\n",
       "      <th></th>\n",
       "      <th>query</th>\n",
       "    </tr>\n",
       "  </thead>\n",
       "  <tbody>\n",
       "    <tr>\n",
       "      <th>count</th>\n",
       "      <td>1</td>\n",
       "    </tr>\n",
       "    <tr>\n",
       "      <th>created</th>\n",
       "      <td>2017-07-29T23:51:25Z</td>\n",
       "    </tr>\n",
       "    <tr>\n",
       "      <th>diagnostics</th>\n",
       "      <td>{'publiclyCallable': 'true', 'url': {'executio...</td>\n",
       "    </tr>\n",
       "    <tr>\n",
       "      <th>lang</th>\n",
       "      <td>en-US</td>\n",
       "    </tr>\n",
       "    <tr>\n",
       "      <th>results</th>\n",
       "      <td>{'channel': {'units': {'distance': 'mi', 'pres...</td>\n",
       "    </tr>\n",
       "  </tbody>\n",
       "</table>\n",
       "</div>"
      ],
      "text/plain": [
       "                                                         query\n",
       "count                                                        1\n",
       "created                                   2017-07-29T23:51:25Z\n",
       "diagnostics  {'publiclyCallable': 'true', 'url': {'executio...\n",
       "lang                                                     en-US\n",
       "results      {'channel': {'units': {'distance': 'mi', 'pres..."
      ]
     },
     "execution_count": 23,
     "metadata": {},
     "output_type": "execute_result"
    }
   ],
   "source": [
    "df = pd.read_json('../APIs/yahoo_weather.json')\n",
    "df"
   ]
  },
  {
   "cell_type": "markdown",
   "metadata": {},
   "source": [
    "_Not quite what we wanted.  Let's read then normalize_ \n",
    "\n",
    "Read file with json Library. Source: [Scott Robinson's Stack Abuse Article ](http://stackabuse.com/reading-and-writing-json-to-a-file-in-python/)"
   ]
  },
  {
   "cell_type": "code",
   "execution_count": 64,
   "metadata": {},
   "outputs": [
    {
     "data": {
      "text/html": [
       "<div>\n",
       "<style>\n",
       "    .dataframe thead tr:only-child th {\n",
       "        text-align: right;\n",
       "    }\n",
       "\n",
       "    .dataframe thead th {\n",
       "        text-align: left;\n",
       "    }\n",
       "\n",
       "    .dataframe tbody tr th {\n",
       "        vertical-align: top;\n",
       "    }\n",
       "</style>\n",
       "<table border=\"1\" class=\"dataframe\">\n",
       "  <thead>\n",
       "    <tr style=\"text-align: right;\">\n",
       "      <th></th>\n",
       "      <th>count</th>\n",
       "      <th>created</th>\n",
       "      <th>diagnostics.build-version</th>\n",
       "      <th>diagnostics.publiclyCallable</th>\n",
       "      <th>diagnostics.service-time</th>\n",
       "      <th>diagnostics.url.content</th>\n",
       "      <th>diagnostics.url.execution-start-time</th>\n",
       "      <th>diagnostics.url.execution-stop-time</th>\n",
       "      <th>diagnostics.url.execution-time</th>\n",
       "      <th>diagnostics.user-time</th>\n",
       "      <th>...</th>\n",
       "      <th>results.channel.location.region</th>\n",
       "      <th>results.channel.title</th>\n",
       "      <th>results.channel.ttl</th>\n",
       "      <th>results.channel.units.distance</th>\n",
       "      <th>results.channel.units.pressure</th>\n",
       "      <th>results.channel.units.speed</th>\n",
       "      <th>results.channel.units.temperature</th>\n",
       "      <th>results.channel.wind.chill</th>\n",
       "      <th>results.channel.wind.direction</th>\n",
       "      <th>results.channel.wind.speed</th>\n",
       "    </tr>\n",
       "  </thead>\n",
       "  <tbody>\n",
       "    <tr>\n",
       "      <th>0</th>\n",
       "      <td>1</td>\n",
       "      <td>2017-07-29T23:51:25Z</td>\n",
       "      <td>2.0.164</td>\n",
       "      <td>true</td>\n",
       "      <td>4</td>\n",
       "      <td>http://weather-ydn-yql.media.yahoo.com:4080/v3...</td>\n",
       "      <td>1</td>\n",
       "      <td>5</td>\n",
       "      <td>4</td>\n",
       "      <td>6</td>\n",
       "      <td>...</td>\n",
       "      <td>CA</td>\n",
       "      <td>Yahoo! Weather - Sunnyvale, CA, US</td>\n",
       "      <td>60</td>\n",
       "      <td>mi</td>\n",
       "      <td>in</td>\n",
       "      <td>mph</td>\n",
       "      <td>F</td>\n",
       "      <td>75</td>\n",
       "      <td>355</td>\n",
       "      <td>18</td>\n",
       "    </tr>\n",
       "  </tbody>\n",
       "</table>\n",
       "<p>1 rows × 50 columns</p>\n",
       "</div>"
      ],
      "text/plain": [
       "   count               created diagnostics.build-version  \\\n",
       "0      1  2017-07-29T23:51:25Z                   2.0.164   \n",
       "\n",
       "  diagnostics.publiclyCallable diagnostics.service-time  \\\n",
       "0                         true                        4   \n",
       "\n",
       "                             diagnostics.url.content  \\\n",
       "0  http://weather-ydn-yql.media.yahoo.com:4080/v3...   \n",
       "\n",
       "  diagnostics.url.execution-start-time diagnostics.url.execution-stop-time  \\\n",
       "0                                    1                                   5   \n",
       "\n",
       "  diagnostics.url.execution-time diagnostics.user-time  \\\n",
       "0                              4                     6   \n",
       "\n",
       "             ...             results.channel.location.region  \\\n",
       "0            ...                                          CA   \n",
       "\n",
       "                results.channel.title results.channel.ttl  \\\n",
       "0  Yahoo! Weather - Sunnyvale, CA, US                  60   \n",
       "\n",
       "  results.channel.units.distance results.channel.units.pressure  \\\n",
       "0                             mi                             in   \n",
       "\n",
       "  results.channel.units.speed results.channel.units.temperature  \\\n",
       "0                         mph                                 F   \n",
       "\n",
       "  results.channel.wind.chill results.channel.wind.direction  \\\n",
       "0                         75                            355   \n",
       "\n",
       "  results.channel.wind.speed  \n",
       "0                         18  \n",
       "\n",
       "[1 rows x 50 columns]"
      ]
     },
     "execution_count": 64,
     "metadata": {},
     "output_type": "execute_result"
    }
   ],
   "source": [
    "with open('../APIs/yahoo_weather.json') as json_file:\n",
    "  raw_json = json.load(json_file)\n",
    "\n",
    "raw_json\n",
    "\n",
    "normal_json = json_normalize(raw_json['query']) \n",
    "normal_json"
   ]
  },
  {
   "cell_type": "code",
   "execution_count": 65,
   "metadata": {},
   "outputs": [
    {
     "data": {
      "text/html": [
       "<div>\n",
       "<style>\n",
       "    .dataframe thead tr:only-child th {\n",
       "        text-align: right;\n",
       "    }\n",
       "\n",
       "    .dataframe thead th {\n",
       "        text-align: left;\n",
       "    }\n",
       "\n",
       "    .dataframe tbody tr th {\n",
       "        vertical-align: top;\n",
       "    }\n",
       "</style>\n",
       "<table border=\"1\" class=\"dataframe\">\n",
       "  <thead>\n",
       "    <tr style=\"text-align: right;\">\n",
       "      <th></th>\n",
       "      <th>channel.astronomy.sunrise</th>\n",
       "      <th>channel.astronomy.sunset</th>\n",
       "      <th>channel.atmosphere.humidity</th>\n",
       "      <th>channel.atmosphere.pressure</th>\n",
       "      <th>channel.atmosphere.rising</th>\n",
       "      <th>channel.atmosphere.visibility</th>\n",
       "      <th>channel.description</th>\n",
       "      <th>channel.image.height</th>\n",
       "      <th>channel.image.link</th>\n",
       "      <th>channel.image.title</th>\n",
       "      <th>...</th>\n",
       "      <th>channel.location.region</th>\n",
       "      <th>channel.title</th>\n",
       "      <th>channel.ttl</th>\n",
       "      <th>channel.units.distance</th>\n",
       "      <th>channel.units.pressure</th>\n",
       "      <th>channel.units.speed</th>\n",
       "      <th>channel.units.temperature</th>\n",
       "      <th>channel.wind.chill</th>\n",
       "      <th>channel.wind.direction</th>\n",
       "      <th>channel.wind.speed</th>\n",
       "    </tr>\n",
       "  </thead>\n",
       "  <tbody>\n",
       "    <tr>\n",
       "      <th>0</th>\n",
       "      <td>6:10 am</td>\n",
       "      <td>8:19 pm</td>\n",
       "      <td>58</td>\n",
       "      <td>1006.0</td>\n",
       "      <td>0</td>\n",
       "      <td>16.1</td>\n",
       "      <td>Yahoo! Weather for Sunnyvale, CA, US</td>\n",
       "      <td>18</td>\n",
       "      <td>http://weather.yahoo.com</td>\n",
       "      <td>Yahoo! Weather</td>\n",
       "      <td>...</td>\n",
       "      <td>CA</td>\n",
       "      <td>Yahoo! Weather - Sunnyvale, CA, US</td>\n",
       "      <td>60</td>\n",
       "      <td>mi</td>\n",
       "      <td>in</td>\n",
       "      <td>mph</td>\n",
       "      <td>F</td>\n",
       "      <td>75</td>\n",
       "      <td>355</td>\n",
       "      <td>18</td>\n",
       "    </tr>\n",
       "  </tbody>\n",
       "</table>\n",
       "<p>1 rows × 39 columns</p>\n",
       "</div>"
      ],
      "text/plain": [
       "  channel.astronomy.sunrise channel.astronomy.sunset  \\\n",
       "0                   6:10 am                  8:19 pm   \n",
       "\n",
       "  channel.atmosphere.humidity channel.atmosphere.pressure  \\\n",
       "0                          58                      1006.0   \n",
       "\n",
       "  channel.atmosphere.rising channel.atmosphere.visibility  \\\n",
       "0                         0                          16.1   \n",
       "\n",
       "                    channel.description channel.image.height  \\\n",
       "0  Yahoo! Weather for Sunnyvale, CA, US                   18   \n",
       "\n",
       "         channel.image.link channel.image.title        ...          \\\n",
       "0  http://weather.yahoo.com      Yahoo! Weather        ...           \n",
       "\n",
       "  channel.location.region                       channel.title channel.ttl  \\\n",
       "0                      CA  Yahoo! Weather - Sunnyvale, CA, US          60   \n",
       "\n",
       "  channel.units.distance channel.units.pressure channel.units.speed  \\\n",
       "0                     mi                     in                 mph   \n",
       "\n",
       "  channel.units.temperature channel.wind.chill channel.wind.direction  \\\n",
       "0                         F                 75                    355   \n",
       "\n",
       "  channel.wind.speed  \n",
       "0                 18  \n",
       "\n",
       "[1 rows x 39 columns]"
      ]
     },
     "execution_count": 65,
     "metadata": {},
     "output_type": "execute_result"
    }
   ],
   "source": [
    "with open('../APIs/yahoo_weather.json') as json_file:\n",
    "  raw_json = json.load(json_file)\n",
    "\n",
    "raw_json\n",
    "\n",
    "normal_json = json_normalize(raw_json['query']['results']) \n",
    "normal_json"
   ]
  },
  {
   "cell_type": "code",
   "execution_count": null,
   "metadata": {
    "collapsed": true
   },
   "outputs": [],
   "source": []
  },
  {
   "cell_type": "code",
   "execution_count": 66,
   "metadata": {},
   "outputs": [
    {
     "data": {
      "text/html": [
       "<div>\n",
       "<style>\n",
       "    .dataframe thead tr:only-child th {\n",
       "        text-align: right;\n",
       "    }\n",
       "\n",
       "    .dataframe thead th {\n",
       "        text-align: left;\n",
       "    }\n",
       "\n",
       "    .dataframe tbody tr th {\n",
       "        vertical-align: top;\n",
       "    }\n",
       "</style>\n",
       "<table border=\"1\" class=\"dataframe\">\n",
       "  <thead>\n",
       "    <tr style=\"text-align: right;\">\n",
       "      <th></th>\n",
       "      <th>astronomy.sunrise</th>\n",
       "      <th>astronomy.sunset</th>\n",
       "      <th>atmosphere.humidity</th>\n",
       "      <th>atmosphere.pressure</th>\n",
       "      <th>atmosphere.rising</th>\n",
       "      <th>atmosphere.visibility</th>\n",
       "      <th>description</th>\n",
       "      <th>image.height</th>\n",
       "      <th>image.link</th>\n",
       "      <th>image.title</th>\n",
       "      <th>...</th>\n",
       "      <th>location.region</th>\n",
       "      <th>title</th>\n",
       "      <th>ttl</th>\n",
       "      <th>units.distance</th>\n",
       "      <th>units.pressure</th>\n",
       "      <th>units.speed</th>\n",
       "      <th>units.temperature</th>\n",
       "      <th>wind.chill</th>\n",
       "      <th>wind.direction</th>\n",
       "      <th>wind.speed</th>\n",
       "    </tr>\n",
       "  </thead>\n",
       "  <tbody>\n",
       "    <tr>\n",
       "      <th>0</th>\n",
       "      <td>6:10 am</td>\n",
       "      <td>8:19 pm</td>\n",
       "      <td>58</td>\n",
       "      <td>1006.0</td>\n",
       "      <td>0</td>\n",
       "      <td>16.1</td>\n",
       "      <td>Yahoo! Weather for Sunnyvale, CA, US</td>\n",
       "      <td>18</td>\n",
       "      <td>http://weather.yahoo.com</td>\n",
       "      <td>Yahoo! Weather</td>\n",
       "      <td>...</td>\n",
       "      <td>CA</td>\n",
       "      <td>Yahoo! Weather - Sunnyvale, CA, US</td>\n",
       "      <td>60</td>\n",
       "      <td>mi</td>\n",
       "      <td>in</td>\n",
       "      <td>mph</td>\n",
       "      <td>F</td>\n",
       "      <td>75</td>\n",
       "      <td>355</td>\n",
       "      <td>18</td>\n",
       "    </tr>\n",
       "  </tbody>\n",
       "</table>\n",
       "<p>1 rows × 39 columns</p>\n",
       "</div>"
      ],
      "text/plain": [
       "  astronomy.sunrise astronomy.sunset atmosphere.humidity atmosphere.pressure  \\\n",
       "0           6:10 am          8:19 pm                  58              1006.0   \n",
       "\n",
       "  atmosphere.rising atmosphere.visibility  \\\n",
       "0                 0                  16.1   \n",
       "\n",
       "                            description image.height  \\\n",
       "0  Yahoo! Weather for Sunnyvale, CA, US           18   \n",
       "\n",
       "                 image.link     image.title    ...     location.region  \\\n",
       "0  http://weather.yahoo.com  Yahoo! Weather    ...                  CA   \n",
       "\n",
       "                                title ttl units.distance units.pressure  \\\n",
       "0  Yahoo! Weather - Sunnyvale, CA, US  60             mi             in   \n",
       "\n",
       "  units.speed units.temperature wind.chill wind.direction wind.speed  \n",
       "0         mph                 F         75            355         18  \n",
       "\n",
       "[1 rows x 39 columns]"
      ]
     },
     "execution_count": 66,
     "metadata": {},
     "output_type": "execute_result"
    }
   ],
   "source": [
    "with open('../APIs/yahoo_weather.json') as json_file:\n",
    "  raw_json = json.load(json_file)\n",
    "\n",
    "raw_json\n",
    "\n",
    "normal_json = json_normalize(raw_json['query']['results']['channel']) \n",
    "normal_json"
   ]
  },
  {
   "cell_type": "code",
   "execution_count": 67,
   "metadata": {},
   "outputs": [
    {
     "data": {
      "text/html": [
       "<div>\n",
       "<style>\n",
       "    .dataframe thead tr:only-child th {\n",
       "        text-align: right;\n",
       "    }\n",
       "\n",
       "    .dataframe thead th {\n",
       "        text-align: left;\n",
       "    }\n",
       "\n",
       "    .dataframe tbody tr th {\n",
       "        vertical-align: top;\n",
       "    }\n",
       "</style>\n",
       "<table border=\"1\" class=\"dataframe\">\n",
       "  <thead>\n",
       "    <tr style=\"text-align: right;\">\n",
       "      <th></th>\n",
       "      <th>sunrise</th>\n",
       "      <th>sunset</th>\n",
       "    </tr>\n",
       "  </thead>\n",
       "  <tbody>\n",
       "    <tr>\n",
       "      <th>0</th>\n",
       "      <td>6:10 am</td>\n",
       "      <td>8:19 pm</td>\n",
       "    </tr>\n",
       "  </tbody>\n",
       "</table>\n",
       "</div>"
      ],
      "text/plain": [
       "   sunrise   sunset\n",
       "0  6:10 am  8:19 pm"
      ]
     },
     "execution_count": 67,
     "metadata": {},
     "output_type": "execute_result"
    }
   ],
   "source": [
    "with open('../APIs/yahoo_weather.json') as json_file:\n",
    "  raw_json = json.load(json_file)\n",
    "\n",
    "raw_json\n",
    "\n",
    "normal_json = json_normalize(raw_json['query']['results']['channel']['astronomy']) \n",
    "normal_json"
   ]
  },
  {
   "cell_type": "code",
   "execution_count": 46,
   "metadata": {},
   "outputs": [
    {
     "data": {
      "text/html": [
       "<div>\n",
       "<style>\n",
       "    .dataframe thead tr:only-child th {\n",
       "        text-align: right;\n",
       "    }\n",
       "\n",
       "    .dataframe thead th {\n",
       "        text-align: left;\n",
       "    }\n",
       "\n",
       "    .dataframe tbody tr th {\n",
       "        vertical-align: top;\n",
       "    }\n",
       "</style>\n",
       "<table border=\"1\" class=\"dataframe\">\n",
       "  <thead>\n",
       "    <tr style=\"text-align: right;\">\n",
       "      <th></th>\n",
       "      <th>astronomy.sunrise</th>\n",
       "      <th>astronomy.sunset</th>\n",
       "      <th>atmosphere.humidity</th>\n",
       "      <th>atmosphere.pressure</th>\n",
       "      <th>atmosphere.rising</th>\n",
       "      <th>atmosphere.visibility</th>\n",
       "      <th>description</th>\n",
       "      <th>image.height</th>\n",
       "      <th>image.link</th>\n",
       "      <th>image.title</th>\n",
       "      <th>...</th>\n",
       "      <th>location.region</th>\n",
       "      <th>title</th>\n",
       "      <th>ttl</th>\n",
       "      <th>units.distance</th>\n",
       "      <th>units.pressure</th>\n",
       "      <th>units.speed</th>\n",
       "      <th>units.temperature</th>\n",
       "      <th>wind.chill</th>\n",
       "      <th>wind.direction</th>\n",
       "      <th>wind.speed</th>\n",
       "    </tr>\n",
       "  </thead>\n",
       "  <tbody>\n",
       "    <tr>\n",
       "      <th>0</th>\n",
       "      <td>6:10 am</td>\n",
       "      <td>8:19 pm</td>\n",
       "      <td>58</td>\n",
       "      <td>1006.0</td>\n",
       "      <td>0</td>\n",
       "      <td>16.1</td>\n",
       "      <td>Yahoo! Weather for Sunnyvale, CA, US</td>\n",
       "      <td>18</td>\n",
       "      <td>http://weather.yahoo.com</td>\n",
       "      <td>Yahoo! Weather</td>\n",
       "      <td>...</td>\n",
       "      <td>CA</td>\n",
       "      <td>Yahoo! Weather - Sunnyvale, CA, US</td>\n",
       "      <td>60</td>\n",
       "      <td>mi</td>\n",
       "      <td>in</td>\n",
       "      <td>mph</td>\n",
       "      <td>F</td>\n",
       "      <td>75</td>\n",
       "      <td>355</td>\n",
       "      <td>18</td>\n",
       "    </tr>\n",
       "  </tbody>\n",
       "</table>\n",
       "<p>1 rows × 39 columns</p>\n",
       "</div>"
      ],
      "text/plain": [
       "  astronomy.sunrise astronomy.sunset atmosphere.humidity atmosphere.pressure  \\\n",
       "0           6:10 am          8:19 pm                  58              1006.0   \n",
       "\n",
       "  atmosphere.rising atmosphere.visibility  \\\n",
       "0                 0                  16.1   \n",
       "\n",
       "                            description image.height  \\\n",
       "0  Yahoo! Weather for Sunnyvale, CA, US           18   \n",
       "\n",
       "                 image.link     image.title    ...     location.region  \\\n",
       "0  http://weather.yahoo.com  Yahoo! Weather    ...                  CA   \n",
       "\n",
       "                                title ttl units.distance units.pressure  \\\n",
       "0  Yahoo! Weather - Sunnyvale, CA, US  60             mi             in   \n",
       "\n",
       "  units.speed units.temperature wind.chill wind.direction wind.speed  \n",
       "0         mph                 F         75            355         18  \n",
       "\n",
       "[1 rows x 39 columns]"
      ]
     },
     "execution_count": 46,
     "metadata": {},
     "output_type": "execute_result"
    }
   ],
   "source": [
    "# I don't think I really need to do this. Prettu sure the output of json.load() is already a dataframe\n",
    "df = normal_json\n",
    "df"
   ]
  },
  {
   "cell_type": "markdown",
   "metadata": {},
   "source": [
    "## Let's try another json file (openweathermap.json)"
   ]
  },
  {
   "cell_type": "code",
   "execution_count": 51,
   "metadata": {},
   "outputs": [
    {
     "name": "stdout",
     "output_type": "stream",
     "text": [
      "/home/vagrant/git/BigData/democratizing_weather_data/democratizing_weather_data/streaming/prototypes\n",
      "API_index.csv\t     wsdot.TrafficFlows.json  yahoo_weather.json\n",
      "openweathermap.json  wsdot.Traveltimes.json\n",
      "{\n",
      "    \"coord\": {\n",
      "        \"lon\": 139.01,\n",
      "        \"lat\": 35.02\n",
      "    },\n",
      "    \"weather\": [\n",
      "        {\n",
      "            \"id\": 800,\n",
      "            \"main\": \"Clear\",\n",
      "            \"description\": \"clear sky\",\n"
     ]
    }
   ],
   "source": [
    "!pwd\n",
    "! ls ../APIs\n",
    "!head ../APIs/openweathermap.json"
   ]
  },
  {
   "cell_type": "code",
   "execution_count": 62,
   "metadata": {},
   "outputs": [
    {
     "data": {
      "text/html": [
       "<div>\n",
       "<style>\n",
       "    .dataframe thead tr:only-child th {\n",
       "        text-align: right;\n",
       "    }\n",
       "\n",
       "    .dataframe thead th {\n",
       "        text-align: left;\n",
       "    }\n",
       "\n",
       "    .dataframe tbody tr th {\n",
       "        vertical-align: top;\n",
       "    }\n",
       "</style>\n",
       "<table border=\"1\" class=\"dataframe\">\n",
       "  <thead>\n",
       "    <tr style=\"text-align: right;\">\n",
       "      <th></th>\n",
       "      <th>base</th>\n",
       "      <th>clouds.all</th>\n",
       "      <th>cod</th>\n",
       "      <th>coord.lat</th>\n",
       "      <th>coord.lon</th>\n",
       "      <th>dt</th>\n",
       "      <th>id</th>\n",
       "      <th>main.grnd_level</th>\n",
       "      <th>main.humidity</th>\n",
       "      <th>main.pressure</th>\n",
       "      <th>...</th>\n",
       "      <th>main.temp_max</th>\n",
       "      <th>main.temp_min</th>\n",
       "      <th>name</th>\n",
       "      <th>sys.country</th>\n",
       "      <th>sys.message</th>\n",
       "      <th>sys.sunrise</th>\n",
       "      <th>sys.sunset</th>\n",
       "      <th>weather</th>\n",
       "      <th>wind.deg</th>\n",
       "      <th>wind.speed</th>\n",
       "    </tr>\n",
       "  </thead>\n",
       "  <tbody>\n",
       "    <tr>\n",
       "      <th>0</th>\n",
       "      <td>stations</td>\n",
       "      <td>0</td>\n",
       "      <td>200</td>\n",
       "      <td>35.02</td>\n",
       "      <td>139.01</td>\n",
       "      <td>1485792967</td>\n",
       "      <td>1907296</td>\n",
       "      <td>1013.75</td>\n",
       "      <td>100</td>\n",
       "      <td>1013.75</td>\n",
       "      <td>...</td>\n",
       "      <td>285.514</td>\n",
       "      <td>285.514</td>\n",
       "      <td>Tawarano</td>\n",
       "      <td>JP</td>\n",
       "      <td>0.0025</td>\n",
       "      <td>1485726240</td>\n",
       "      <td>1485763863</td>\n",
       "      <td>[{'id': 800, 'main': 'Clear', 'description': '...</td>\n",
       "      <td>311</td>\n",
       "      <td>5.52</td>\n",
       "    </tr>\n",
       "  </tbody>\n",
       "</table>\n",
       "<p>1 rows × 22 columns</p>\n",
       "</div>"
      ],
      "text/plain": [
       "       base  clouds.all  cod  coord.lat  coord.lon          dt       id  \\\n",
       "0  stations           0  200      35.02     139.01  1485792967  1907296   \n",
       "\n",
       "   main.grnd_level  main.humidity  main.pressure    ...      main.temp_max  \\\n",
       "0          1013.75            100        1013.75    ...            285.514   \n",
       "\n",
       "   main.temp_min      name  sys.country sys.message sys.sunrise  sys.sunset  \\\n",
       "0        285.514  Tawarano           JP      0.0025  1485726240  1485763863   \n",
       "\n",
       "                                             weather  wind.deg wind.speed  \n",
       "0  [{'id': 800, 'main': 'Clear', 'description': '...       311       5.52  \n",
       "\n",
       "[1 rows x 22 columns]"
      ]
     },
     "execution_count": 62,
     "metadata": {},
     "output_type": "execute_result"
    }
   ],
   "source": [
    "with open('../APIs/openweathermap.json') as json_file:\n",
    "  raw_json = json.load(json_file)\n",
    "\n",
    "#let's normalize, with no field-seeking.\n",
    "normal_json = json_normalize(raw_json) \n",
    "normal_json                              "
   ]
  },
  {
   "cell_type": "markdown",
   "metadata": {},
   "source": [
    "_Okay, Pretty flat and clean, except the wether field. Let's nromalize that one_"
   ]
  },
  {
   "cell_type": "code",
   "execution_count": 61,
   "metadata": {},
   "outputs": [
    {
     "data": {
      "text/html": [
       "<div>\n",
       "<style>\n",
       "    .dataframe thead tr:only-child th {\n",
       "        text-align: right;\n",
       "    }\n",
       "\n",
       "    .dataframe thead th {\n",
       "        text-align: left;\n",
       "    }\n",
       "\n",
       "    .dataframe tbody tr th {\n",
       "        vertical-align: top;\n",
       "    }\n",
       "</style>\n",
       "<table border=\"1\" class=\"dataframe\">\n",
       "  <thead>\n",
       "    <tr style=\"text-align: right;\">\n",
       "      <th></th>\n",
       "      <th>description</th>\n",
       "      <th>icon</th>\n",
       "      <th>id</th>\n",
       "      <th>main</th>\n",
       "    </tr>\n",
       "  </thead>\n",
       "  <tbody>\n",
       "    <tr>\n",
       "      <th>0</th>\n",
       "      <td>clear sky</td>\n",
       "      <td>01n</td>\n",
       "      <td>800</td>\n",
       "      <td>Clear</td>\n",
       "    </tr>\n",
       "  </tbody>\n",
       "</table>\n",
       "</div>"
      ],
      "text/plain": [
       "  description icon   id   main\n",
       "0   clear sky  01n  800  Clear"
      ]
     },
     "execution_count": 61,
     "metadata": {},
     "output_type": "execute_result"
    }
   ],
   "source": [
    "weather_json = json_normalize(raw_json['weather'])\n",
    "weather_json"
   ]
  },
  {
   "cell_type": "markdown",
   "metadata": {},
   "source": [
    "_Not bad.  Next step would be splice this into the un-normalized record, and replace that weather field_"
   ]
  },
  {
   "cell_type": "markdown",
   "metadata": {},
   "source": [
    "## Future Work\n",
    "- Use Postman to generate more yahoo weather json files, then cocatenate them into one dataframe\n",
    "- Try other json files\n",
    "- Get to the point where you have multiple rows to play with. "
   ]
  }
 ],
 "metadata": {
  "kernelspec": {
   "display_name": "Python 3",
   "language": "python",
   "name": "python3"
  },
  "language_info": {
   "codemirror_mode": {
    "name": "ipython",
    "version": 3
   },
   "file_extension": ".py",
   "mimetype": "text/x-python",
   "name": "python",
   "nbconvert_exporter": "python",
   "pygments_lexer": "ipython3",
   "version": "3.6.1"
  }
 },
 "nbformat": 4,
 "nbformat_minor": 2
}
